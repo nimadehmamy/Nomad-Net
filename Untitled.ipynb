{
 "cells": [
  {
   "cell_type": "markdown",
   "metadata": {},
   "source": [
    "# Add \n",
    "* Project info\n",
    "    * buttons for data that needs to open forms\n",
    "    * Milestones Checklist with linked notes\n",
    "    * An editable form for notes\n",
    "* Physics\n",
    "\n",
    "# Features\n",
    "\n",
    "*  Nodes\n",
    "*  Links\n",
    "\n",
    "# Project and Hierarchy Representation\n",
    "\n",
    "We will use multi-layer structure and show the initial hierarchy using polygons at each layer. \n",
    "\n",
    "*  Project is a triangle, \n",
    "*  Head of project is a square,\n",
    "*  layer n is an (n+2)-gon ...\n",
    "\n",
    "But actually, different people may occupy different levels in different projects, so maybe just\n",
    "using corcles is better. "
   ]
  },
  {
   "cell_type": "code",
   "execution_count": null,
   "metadata": {
    "collapsed": true
   },
   "outputs": [],
   "source": []
  }
 ],
 "metadata": {
  "kernelspec": {
   "display_name": "Python 2",
   "language": "python",
   "name": "python2"
  },
  "language_info": {
   "codemirror_mode": {
    "name": "ipython",
    "version": 2
   },
   "file_extension": ".py",
   "mimetype": "text/x-python",
   "name": "python",
   "nbconvert_exporter": "python",
   "pygments_lexer": "ipython2",
   "version": "2.7.11"
  }
 },
 "nbformat": 4,
 "nbformat_minor": 0
}
